{
 "cells": [
  {
   "cell_type": "markdown",
   "metadata": {},
   "source": [
    "# ***Hola Mundo en Redes Neuronales***\n",
    "\n",
    "\n",
    "### Tabla de contenidos\n",
    "- [Librerias](#1)\n",
    "- [Introducción](#2)\n",
    "    - [Ejercicio 1](#ex-1)\n",
    "    - [Ejercicio 2](#ex-2)\n",
    "- [Arquitectura del algoritmo de aprendizaje](#3)\n",
    "    - [Ejercicio 3](#ex-1)\n",
    "    - [Ejercicio 4](#ex-2)\n",
    "- [Vectorización](#4)\n",
    "    - [Ejercicio 5](#ex-2)\n",
    "- [Propagación](#4)\n",
    "    - [Ejercicio 6](#ex-2)\n",
    "- [Ajuste de parametros](#4)\n",
    "    - [Ejercicio 7](#ex-2)\n",
    "- [Predicción](#5)\n",
    "    - [Ejercicio 8](#ex-8)\n",
    "- [Creación del modelo](#9)\n",
    "    - [Ejercicio 9](#9)\n",
    "- [Resultados](#6)"
   ]
  },
  {
   "cell_type": "markdown",
   "metadata": {},
   "source": [
    "\n",
    "## ***Librerias***"
   ]
  },
  {
   "cell_type": "code",
   "execution_count": 1,
   "metadata": {},
   "outputs": [],
   "source": [
    "import numpy as np\n",
    "import copy\n",
    "import matplotlib.pyplot as plt\n",
    "import time \n",
    "import h5py\n",
    "import scipy\n",
    "from PIL import Image\n",
    "from scipy import ndimage\n",
    "from lr_utils import load_dataset\n",
    "from public_tests import *\n",
    "\n",
    "%matplotlib inline\n"
   ]
  },
  {
   "cell_type": "markdown",
   "metadata": {},
   "source": [
    "## ***Introducción***\n",
    "Nuestro objetivo es crear un algoritmo que pueda identificar si una imagen muestra un gato, sin recurrir a bibliotecas avanzadas de deep learning como TensorFlow, PyTorch o Scikit-learn. En lugar de ello, basaremos nuestra implementación en NumPy, aprovechando los fundamentos matemáticos en los que se apoya el aprendizaje profundo. Esta aproximación nos permitirá entender cómo los conceptos matemáticos se aplican en la programación para lograr la clasificación de imágenes.\n",
    "\n",
    "\n",
    "Conocimiento previos :\n",
    "\n",
    "- Matrices y Vectores\n",
    "\n",
    "- Derivadas \n",
    "    \n",
    "- Python Basico \n",
    "\n",
    "    \n",
    "\n",
    "Objetivos principales:\n",
    "\n",
    "- Comprender la importancia de las dimensiones, tanto en las entradas como en las salidas de un perceptrón, y cómo estas afectan el procesamiento de la información.\n",
    "\n",
    "- Explorar las funciones básicas que componen un perceptrón y su papel en la construcción de modelos de deep learning.\n",
    "    \n",
    "- Aprender el proceso de ajuste de parámetros mediante técnicas de regresión, esencial para la optimización de nuestros modelos.\n",
    "\n",
    "\n",
    "\n"
   ]
  },
  {
   "cell_type": "code",
   "execution_count": 2,
   "metadata": {},
   "outputs": [
    {
     "name": "stdout",
     "output_type": "stream",
     "text": [
      "las dimensiones de nuestras base de datos x entrenamiento  estan dadas por (209, 64, 64, 3)\n",
      "las dimensiones de nuestras base de datos x testeo  estan dadas por (50, 64, 64, 3)\n"
     ]
    }
   ],
   "source": [
    "train_set_x,train_set_y,test_set_x,test_set_y,classes=load_dataset()\n",
    "\n",
    "print(f\"las dimensiones de nuestras base de datos x entrenamiento  estan dadas por {train_set_x.shape}\")\n",
    "print(f\"las dimensiones de nuestras base de datos x testeo  estan dadas por {test_set_x.shape}\")"
   ]
  },
  {
   "cell_type": "markdown",
   "metadata": {},
   "source": [
    "\n",
    "***Prueba de imágenes***\n",
    "\n",
    "En esta sección puedes modificar el valor de \"idx\" para seleccionar una imagen diferente de la base de datos."
   ]
  },
  {
   "cell_type": "code",
   "execution_count": 3,
   "metadata": {},
   "outputs": [
    {
     "data": {
      "text/plain": [
       "<matplotlib.image.AxesImage at 0x287e51751d0>"
      ]
     },
     "execution_count": 3,
     "metadata": {},
     "output_type": "execute_result"
    },
    {
     "data": {
      "image/png": "[encoded data removed]",
      "text/plain": [
       "<Figure size 640x480 with 1 Axes>"
      ]
     },
     "metadata": {},
     "output_type": "display_data"
    }
   ],
   "source": [
    "idx=20\n",
    "plt.imshow(train_set_x[25])"
   ]
  },
  {
   "cell_type": "markdown",
   "metadata": {},
   "source": [
    "### **Ejercicio 1**"
   ]
  },
  {
   "cell_type": "markdown",
   "metadata": {},
   "source": [
    "Nombre las siguientes variables (`m_train`,`m_test`,`nx`) las cuales contienes los valores de :\n",
    "    \n",
    "    m_train -> Numero de muestras para entrenamiento\n",
    "    \n",
    "    m_test -> Numero de muestras para testeo\n",
    "    \n",
    "    nx ->Numero de pixeles de cada foto"
   ]
  },
  {
   "cell_type": "code",
   "execution_count": 4,
   "metadata": {},
   "outputs": [
    {
     "name": "stdout",
     "output_type": "stream",
     "text": [
      "\u001b[92m todos los test se pasaron!\n",
      "\n",
      "train_set_x Dimension: (209, 64, 64, 3)\n",
      "train_set_y Dimension: (1, 209)\n",
      "test_set_x Dimension: (50, 64, 64, 3)\n",
      "test_set_y Dimension: (1, 50)\n"
     ]
    }
   ],
   "source": [
    "\n",
    "# ---------------CODIGO ------------------#\n",
    "m_train = train_set_x.shape[0] \n",
    "m_test = test_set_x.shape[0]\n",
    "nx = train_set_x.shape[1]\n",
    "\n",
    "#------------------------------------------#\n",
    "\n",
    "assert type(m_train)==int,\"Mala tipo de dato\"\n",
    "assert np.around(np.exp(m_train/100),1)==8.1,\"Mala Dimension\"\n",
    "\n",
    "assert type(m_test)==int,\"Mala tipo de dato\"\n",
    "assert np.around(np.exp(m_test/100),1)==1.6,\"Mala Dimension\"\n",
    "\n",
    "assert type(nx)==int,\"Mala tipo de dato\"\n",
    "assert np.around(np.exp(nx/100),1)==1.9,\"Mala Dimension\"\n",
    "\n",
    "print('\\033[92m todos los test se pasaron!\\n')\n",
    "print (\"train_set_x Dimension: \" + str(train_set_x.shape))\n",
    "print (\"train_set_y Dimension: \" + str(train_set_y.shape))\n",
    "print (\"test_set_x Dimension: \" + str(test_set_x.shape))\n",
    "print (\"test_set_y Dimension: \" + str(test_set_y.shape))"
   ]
  },
  {
   "cell_type": "markdown",
   "metadata": {},
   "source": [
    "### **Ejercicio 2**\n",
    "\n",
    "En este ejercicio, transformaremos las imágenes, originalmente en formato tridimensional  $(altura*anchura*canales,1)$\n",
    "en matrices bidimensionales .\n",
    "\n",
    "Recordemos que nuestra entrada sera:\n",
    "\n",
    "\n",
    "$$\\mathbf{x} \\in \\mathbb{R}^{n_x \\times m}$$\n",
    "\n",
    "***Consejo***\n",
    "\n",
    "Puedes utilizar la función np.reshape()"
   ]
  },
  {
   "cell_type": "code",
   "execution_count": 5,
   "metadata": {},
   "outputs": [
    {
     "name": "stdout",
     "output_type": "stream",
     "text": [
      "\u001b[92m todos los test se pasaron!\n",
      "\n",
      "train_set_x_plano Dimensiones: (12288, 209)\n",
      "train_set_y Dimensiones: (1, 209)\n",
      "\n",
      "test_set_x_plano Dimensiones: (12288, 50)\n",
      "test_set_y Dimensiones: (1, 50)\n"
     ]
    }
   ],
   "source": [
    "\n",
    "# ---------------CODIGO ------------------#\n",
    "train_set_x_plano = train_set_x.reshape(train_set_x.shape[0],-1).T\n",
    "test_set_x_plano = test_set_x.reshape(test_set_x.shape[0],-1).T\n",
    "#------------------------------------------#\n",
    "\n",
    "\n",
    "assert np.alltrue(train_set_x_plano[0:10, 1] == [196, 192, 190, 193, 186, 182, 188, 179, 174, 213]), \"Mala respuesta\"\n",
    "assert np.alltrue(test_set_x_plano[0:10, 1] == [115, 110, 111, 137, 129, 129, 155, 146, 145, 159]), \"Mala respuesta\"\n",
    "\n",
    "print('\\033[92m todos los test se pasaron!\\n')\n",
    "print (\"train_set_x_plano Dimensiones: \" + str(train_set_x_plano.shape))\n",
    "print (\"train_set_y Dimensiones: \" + str(train_set_y.shape)+\"\\n\")\n",
    "\n",
    "print (\"test_set_x_plano Dimensiones: \" + str(test_set_x_plano.shape))\n",
    "print (\"test_set_y Dimensiones: \" + str(test_set_y.shape))"
   ]
  },
  {
   "cell_type": "markdown",
   "metadata": {},
   "source": [
    "Estandarizamos las imagenes dividiendo cada fila de la base de datos por 255 el cual es el valor max"
   ]
  },
  {
   "cell_type": "code",
   "execution_count": 6,
   "metadata": {},
   "outputs": [],
   "source": [
    "train_set_x = train_set_x_plano / 255.\n",
    "test_set_x = test_set_x_plano / 255."
   ]
  },
  {
   "cell_type": "markdown",
   "metadata": {},
   "source": [
    "## ***Arquitectura del algoritmo de aprendizaje***\n"
   ]
  },
  {
   "cell_type": "markdown",
   "metadata": {},
   "source": [
    "<center> <img src=\"./LogReg_kiank.png\" style=\"width:650px;height:400px;\" > </center> "
   ]
  },
  {
   "cell_type": "markdown",
   "metadata": {},
   "source": [
    "### **Ejercicio 3**\n",
    "Implemente la funcion sigmoide , la cual esta expresada como:\n",
    "\n",
    "$\\sigma(x) = \\frac{1}{1 + e^{-x}}$"
   ]
  },
  {
   "cell_type": "code",
   "execution_count": 9,
   "metadata": {},
   "outputs": [],
   "source": [
    "def sigmoide(z):\n",
    "    \"\"\"\n",
    "    Computamos la funcion sigmoide\n",
    "\n",
    "    Input:\n",
    "    z -- Un escalar o arreglo numpy  de cualquier tamaño.\n",
    "\n",
    "    Return:\n",
    "    s -- sigmoid(z)\n",
    "    \"\"\"\n",
    "#-------------CODIGO----------------#\n",
    "    return 1/(1+np.exp(-z))"
   ]
  },
  {
   "cell_type": "code",
   "execution_count": 10,
   "metadata": {},
   "outputs": [
    {
     "name": "stdout",
     "output_type": "stream",
     "text": [
      "sigmoid([0, 2]) = [0.5        0.88079708]\n",
      "\u001b[92m todos los test se pasaron!\n"
     ]
    }
   ],
   "source": [
    "print (\"sigmoid([0, 2]) = \" + str(sigmoide(np.array([0,2]))))\n",
    "\n",
    "sigmoid_test(sigmoide)"
   ]
  },
  {
   "cell_type": "markdown",
   "metadata": {},
   "source": [
    "### **Ejercicio 4**\n",
    "\n",
    "***Inicialización de Parámetros*** \n",
    "\n",
    "Implementamos la función inicializamos_params() para inicializar los parametros en ceros recordemos que:\n",
    "\n",
    "$$W \\in \\mathbb{R}^{nx}$$\n",
    "\n",
    "$$ b \\in \\mathbb{R} $$"
   ]
  },
  {
   "cell_type": "code",
   "execution_count": 23,
   "metadata": {},
   "outputs": [],
   "source": [
    "\n",
    "def inicializamos_params(dim):\n",
    "    \"\"\"\n",
    "    Esta funcion crea un vector de ceros de dimensiones (dim, 1) con el fin de inicializar los parametros w y b\n",
    "    \n",
    "    Argument:\n",
    "    dim -- (Numero de parametros)\n",
    "    \n",
    "    Returns:\n",
    "    w -- inicializamos los vectores con dimensiones (dim, 1)\n",
    "    b -- inicializamos el bias correspondiente a un escalar\n",
    "    \"\"\"\n",
    "    #-------------CODIGO----------------#\n",
    "    w = np.zeros((dim, 1))\n",
    "    b = 0.0\n",
    "    return w, b"
   ]
  },
  {
   "cell_type": "code",
   "execution_count": 24,
   "metadata": {},
   "outputs": [
    {
     "name": "stdout",
     "output_type": "stream",
     "text": [
      "w = [[0.]\n",
      " [0.]]\n",
      "b = 0.0\n",
      "\u001b[92mPrimer Test pasado\n",
      "\u001b[92mSegundo Test pasado\n"
     ]
    }
   ],
   "source": [
    "dim = 2\n",
    "w, b = inicializamos_params(dim)\n",
    "\n",
    "assert type(b) == float\n",
    "print (\"w = \" + str(w))\n",
    "print (\"b = \" + str(b))\n",
    "\n",
    "initialize_with_zeros_test_1(inicializamos_params)\n",
    "initialize_with_zeros_test_2(inicializamos_params)\n"
   ]
  },
  {
   "cell_type": "markdown",
   "metadata": {},
   "source": [
    "## ***Vectorización***"
   ]
  },
  {
   "cell_type": "markdown",
   "metadata": {},
   "source": [
    "### **Ejercicio 5**\n",
    "\n",
    "Implemente 2 Codigos  en los cuales se realize el producto punto Y posteriormente obtenga la media entre $X \\in \\mathbb{R}^{nx \\times m}$  y una matriz sintetica compuesta de  unos $W \\in \\mathbb{R}^{1 \\times nx}$ \n",
    "\n",
    "con el fin entender la diferencia en realizar  operaciones matriciales por medio de iteraciones  y operaciones por medio de metodos de los arreglos de numpy\n",
    "\n",
    "    1. Realize la operacion producto punto y posteriormente obtenga la media del vector restante utilizando solo for loops \n",
    "    \n",
    "    2. Realize la operacion  producto punto y posteriormente obtenga la media usando metodos de numpy"
   ]
  },
  {
   "cell_type": "code",
   "execution_count": 13,
   "metadata": {},
   "outputs": [
    {
     "name": "stdout",
     "output_type": "stream",
     "text": [
      "Matriz x --> (12288, 209)\n",
      "Matriz w --> (1, 12288)\n"
     ]
    }
   ],
   "source": [
    "#------------------NO TOCAR----------------#\n",
    "x_array=train_set_x\n",
    "w_array=np.ones((1,train_set_x.shape[0]))\n",
    "\n",
    "#---------------------------------------------#\n",
    "print(f\"Matriz x --> {x_array.shape}\")\n",
    "print(f\"Matriz w --> {w_array.shape}\")"
   ]
  },
  {
   "cell_type": "code",
   "execution_count": 14,
   "metadata": {},
   "outputs": [],
   "source": [
    "#----------------------CODIGO------------------------------#\n",
    "count = 0\n",
    "for i in range(x_array.shape[0]):\n",
    "    count += w_array[0][i]*x_array[i]\n",
    "\n",
    "x = 0\n",
    "for j in count:\n",
    "    x += j\n",
    "\n",
    "#------------------------------------------------------------#\n"
   ]
  },
  {
   "cell_type": "code",
   "execution_count": 15,
   "metadata": {},
   "outputs": [
    {
     "name": "stdout",
     "output_type": "stream",
     "text": [
      "4963.731625856087\n"
     ]
    }
   ],
   "source": [
    "#----------------------CODIGO------------------------------#\n",
    "print(np.dot(w_array, x_array).mean())\n",
    "\n",
    "#------------------------------------------------------------#"
   ]
  },
  {
   "cell_type": "markdown",
   "metadata": {},
   "source": [
    "## ***Propagación***\n"
   ]
  },
  {
   "cell_type": "markdown",
   "metadata": {},
   "source": [
    "### **Ejercicio 6**\n",
    "\n",
    "Implementaremos la funcion *propagacion()* la cual calcula los siguientes pasos:\n",
    "\n",
    "***Forward Propagation***\n",
    "\n",
    "$$X \\in \\mathbb{R}^{n \\times m}$$ \n",
    "\n",
    "$$A = \\sigma(w^T X + b) = (a^{(1)}, a^{(2)}, ..., a^{(m-1)}, a^{(m)})$$\n",
    "\n",
    "***Cost Function***\n",
    "\n",
    "$$J = -\\frac{1}{m}\\sum_{i=1}^{m}(y^{(i)}\\ln(a^{(i)})+(1-y^{(i)})\\ln(1-a^{(i)}))$$\n",
    "\n",
    "***Backward Propagation***\n",
    "\n",
    "$$ \\frac{\\partial J}{\\partial w} = \\frac{1}{m}X(\\frac{\\partial J}{\\partial z})^T\\tag{7}$$\n",
    "\n",
    "$$ \\frac{\\partial J}{\\partial b} = \\frac{1}{m} \\sum_{i=1}^m (\\frac{\\partial J}{\\partial z})\\tag{8}$$"
   ]
  },
  {
   "cell_type": "code",
   "execution_count": 26,
   "metadata": {},
   "outputs": [],
   "source": [
    "\n",
    "def propagacion(w, b, X, Y):\n",
    "    \"\"\"\n",
    "    Esta funcion implementa el forward propagation ,cost function y backward propagation\n",
    "\n",
    "    \n",
    "    Input:\n",
    "\n",
    "    w -> pesos, arreglo numpy de tamaño (nx * nx * 3, 1)\n",
    "    b -> bias, escalar\n",
    "    X -> datos de tamaño (num_px * num_px * 3, number of examples)\n",
    "    Y -> vector de etiquetas verdaderes (contiene 0 si no es gato, 1 si es gato) tamaño (1, number of examples)\n",
    "\n",
    "    Return:\n",
    "    cost -- costo log-likelihood negativo para regresion logistica \n",
    "    dw -- gradiente de funcion de error respecto a w, mismas dimensiones de w\n",
    "    db -- gradiente de funcion de error b, mismas dimensiones de b\n",
    "    \n",
    "\n",
    "    \"\"\"\n",
    "    #--------------NO TOCAR------------------#\n",
    "    m = X.shape[1]\n",
    "    #-----------------------------------------#\n",
    "\n",
    "    #FORWARD\n",
    "    A = sigmoide(np.dot(w.T,x) + b)\n",
    "\n",
    "    #COST\n",
    "    cost = -(1/m)*np.sum(-Y * np.exp(A) + (1 - Y) * np.log(1-A))\n",
    "\n",
    "    #BACKWARD PROPAGATION\n",
    "    dz = A - Y\n",
    "    dw = (1/m)*np.dot(X, dz.T)\n",
    "    db = (1/m)*np.sum \n",
    "\n",
    "\n",
    "\n",
    "\n",
    "\n",
    "\n",
    "\n",
    "\n",
    "\n",
    "\n",
    "\n",
    "    # ---------------NO TOCAR --------------#\n",
    "    cost = np.squeeze(np.array(cost))\n",
    "\n",
    "    \n",
    "    grads = {\"dw\": dw,\n",
    "             \"db\": db}\n",
    "    \n",
    "    return grads, cost"
   ]
  },
  {
   "cell_type": "code",
   "execution_count": 27,
   "metadata": {},
   "outputs": [
    {
     "ename": "NameError",
     "evalue": "name 'x' is not defined",
     "output_type": "error",
     "traceback": [
      "\u001b[1;31m---------------------------------------------------------------------------\u001b[0m",
      "\u001b[1;31mNameError\u001b[0m                                 Traceback (most recent call last)",
      "Cell \u001b[1;32mIn[27], line 5\u001b[0m\n\u001b[0;32m      3\u001b[0m X \u001b[38;5;241m=\u001b[39m np\u001b[38;5;241m.\u001b[39marray([[\u001b[38;5;241m1.\u001b[39m, \u001b[38;5;241m-\u001b[39m\u001b[38;5;241m2.\u001b[39m, \u001b[38;5;241m-\u001b[39m\u001b[38;5;241m1.\u001b[39m], [\u001b[38;5;241m3.\u001b[39m, \u001b[38;5;241m0.5\u001b[39m, \u001b[38;5;241m-\u001b[39m\u001b[38;5;241m3.2\u001b[39m]])\n\u001b[0;32m      4\u001b[0m Y \u001b[38;5;241m=\u001b[39m np\u001b[38;5;241m.\u001b[39marray([[\u001b[38;5;241m1\u001b[39m, \u001b[38;5;241m1\u001b[39m, \u001b[38;5;241m0\u001b[39m]])\n\u001b[1;32m----> 5\u001b[0m grads, cost \u001b[38;5;241m=\u001b[39m \u001b[43mpropagacion\u001b[49m\u001b[43m(\u001b[49m\u001b[43mw\u001b[49m\u001b[43m,\u001b[49m\u001b[43m \u001b[49m\u001b[43mb\u001b[49m\u001b[43m,\u001b[49m\u001b[43m \u001b[49m\u001b[43mX\u001b[49m\u001b[43m,\u001b[49m\u001b[43m \u001b[49m\u001b[43mY\u001b[49m\u001b[43m)\u001b[49m\n\u001b[0;32m      7\u001b[0m \u001b[38;5;28;01massert\u001b[39;00m \u001b[38;5;28mtype\u001b[39m(grads[\u001b[38;5;124m\"\u001b[39m\u001b[38;5;124mdw\u001b[39m\u001b[38;5;124m\"\u001b[39m]) \u001b[38;5;241m==\u001b[39m np\u001b[38;5;241m.\u001b[39mndarray\n\u001b[0;32m      8\u001b[0m \u001b[38;5;28;01massert\u001b[39;00m grads[\u001b[38;5;124m\"\u001b[39m\u001b[38;5;124mdw\u001b[39m\u001b[38;5;124m\"\u001b[39m]\u001b[38;5;241m.\u001b[39mshape \u001b[38;5;241m==\u001b[39m (\u001b[38;5;241m2\u001b[39m, \u001b[38;5;241m1\u001b[39m)\n",
      "Cell \u001b[1;32mIn[26], line 25\u001b[0m, in \u001b[0;36mpropagacion\u001b[1;34m(w, b, X, Y)\u001b[0m\n\u001b[0;32m     21\u001b[0m m \u001b[38;5;241m=\u001b[39m X\u001b[38;5;241m.\u001b[39mshape[\u001b[38;5;241m1\u001b[39m]\n\u001b[0;32m     22\u001b[0m \u001b[38;5;66;03m#-----------------------------------------#\u001b[39;00m\n\u001b[0;32m     23\u001b[0m \n\u001b[0;32m     24\u001b[0m \u001b[38;5;66;03m#FORWARD\u001b[39;00m\n\u001b[1;32m---> 25\u001b[0m A \u001b[38;5;241m=\u001b[39m sigmoide(np\u001b[38;5;241m.\u001b[39mdot(w\u001b[38;5;241m.\u001b[39mT,\u001b[43mx\u001b[49m) \u001b[38;5;241m+\u001b[39m b)\n\u001b[0;32m     27\u001b[0m \u001b[38;5;66;03m#COST\u001b[39;00m\n\u001b[0;32m     28\u001b[0m cost \u001b[38;5;241m=\u001b[39m \u001b[38;5;241m-\u001b[39m(\u001b[38;5;241m1\u001b[39m\u001b[38;5;241m/\u001b[39mm)\u001b[38;5;241m*\u001b[39mnp\u001b[38;5;241m.\u001b[39msum(\u001b[38;5;241m-\u001b[39mY \u001b[38;5;241m*\u001b[39m np\u001b[38;5;241m.\u001b[39mexp(A) \u001b[38;5;241m+\u001b[39m (\u001b[38;5;241m1\u001b[39m \u001b[38;5;241m-\u001b[39m Y) \u001b[38;5;241m*\u001b[39m np\u001b[38;5;241m.\u001b[39mlog(\u001b[38;5;241m1\u001b[39m\u001b[38;5;241m-\u001b[39mA))\n",
      "\u001b[1;31mNameError\u001b[0m: name 'x' is not defined"
     ]
    }
   ],
   "source": [
    "w =  np.array([[1.], [2]])\n",
    "b = 1.5\n",
    "X = np.array([[1., -2., -1.], [3., 0.5, -3.2]])\n",
    "Y = np.array([[1, 1, 0]])\n",
    "grads, cost = propagacion(w, b, X, Y)\n",
    "\n",
    "assert type(grads[\"dw\"]) == np.ndarray\n",
    "assert grads[\"dw\"].shape == (2, 1)\n",
    "assert type(grads[\"db\"]) == np.float64\n",
    "\n",
    "\n",
    "print (\"dw = \" + str(grads[\"dw\"]))\n",
    "print (\"db = \" + str(grads[\"db\"]))\n",
    "print (\"cost = \" + str(cost))\n",
    "\n",
    "propagate_test(propagacion)"
   ]
  },
  {
   "cell_type": "markdown",
   "metadata": {},
   "source": [
    "## ***Ajuste de parametros***\n",
    "\n",
    " \n"
   ]
  },
  {
   "cell_type": "markdown",
   "metadata": {},
   "source": [
    "### **Ejercicio 7**\n",
    "Escriba la funcion ajuste_parametros la cual tiene como objetivo poder actualizar los parametros  $W$ y $b$ con el fin de que minimizen la funcion de cost $J$.\n",
    "\n",
    "Tenga en cuenta que:\n",
    "\n",
    "<p style=\"text-align: center;\">1. Calcular el costo y el gradiente para los parametros actuales.</p>\n",
    "\n",
    "<p style=\"text-align: center;\">2. Actualizar los parametros usando el gradiente descendiente </p>\n",
    "    \n",
    "Para un parametro $\\theta$, la regla de actualizacion es $ \\theta = \\theta - \\alpha \\text{ } d\\theta$  $\\therefore$ $\\alpha$= tasa de aprendizaje."
   ]
  },
  {
   "cell_type": "code",
   "execution_count": 28,
   "metadata": {},
   "outputs": [],
   "source": [
    "\n",
    "def ajuste_parametros(w, b, X, Y, num_iterations=100, learning_rate=0.009, print_cost=False):\n",
    "    \"\"\"\n",
    "    Esta funcion realize en ajuste de los pesos w y b utilizando el gradiente descendiente\n",
    "    \n",
    "    Input:\n",
    "    w -- pesos, a numpy array of size (nx * nx * 3, 1)\n",
    "    b -- bias, a scalar\n",
    "    X -- dimensiones de los datos  (nx * nx * 3, m)\n",
    "    Y -- vector de etiquetas verdaderes (contiene 0 si no es gato, 1 si es gato) tamaño (1, number of examples)\n",
    "    num_iterations -- numero de iteraciones del ciclo ajuste_parametros\n",
    "    learning_rate -- learning rate del gradiente descendiente \n",
    "    print_cost -- True imprimir el costo cada 100 iteraciones\n",
    "\n",
    "\n",
    "\n",
    "    Return:\n",
    "    params -- diccionario que contiene los pesos de w y b\n",
    "    grads -- diccionario que contiene las derivadas parciales de w y b de la funcion de costo \n",
    "    costs -- lista de todos los costos calculados durante el ajuste\n",
    "    \"\"\"\n",
    "    #---------------NO TOCAR--------------------#\n",
    "    w = copy.deepcopy(w)\n",
    "    b = copy.deepcopy(b)\n",
    "    \n",
    "    costs = []\n",
    "    #-------------------------------------------#\n",
    "    \n",
    "    for i in range(num_iterations):\n",
    "        #----------------------CODIGO--------------------------#\n",
    "        grads, cost = propagacion(w, b, X, Y)\n",
    "\n",
    "        dw = grads[\"dw\"]\n",
    "        db = grads[\"db\"]\n",
    "\n",
    "        w = w - learning_rate*dw\n",
    "        b= b - learning_rate*db\n",
    "\n",
    "        #---------------------NO TOCAR-------------------#\n",
    "        # Record the costs\n",
    "        if i % 100 == 0:\n",
    "            costs.append(cost)\n",
    "            if print_cost:\n",
    "                print (\"Cost after iteration %i: %f\" %(i, cost))\n",
    "    \n",
    "    params = {\"w\": w,\n",
    "              \"b\": b}\n",
    "    \n",
    "    grads = {\"dw\": dw,\n",
    "             \"db\": db}\n",
    "    \n",
    "    return params, grads, costs"
   ]
  },
  {
   "cell_type": "code",
   "execution_count": 29,
   "metadata": {},
   "outputs": [
    {
     "ename": "NameError",
     "evalue": "name 'x' is not defined",
     "output_type": "error",
     "traceback": [
      "\u001b[1;31m---------------------------------------------------------------------------\u001b[0m",
      "\u001b[1;31mNameError\u001b[0m                                 Traceback (most recent call last)",
      "Cell \u001b[1;32mIn[29], line 1\u001b[0m\n\u001b[1;32m----> 1\u001b[0m params, grads, costs \u001b[38;5;241m=\u001b[39m \u001b[43majuste_parametros\u001b[49m\u001b[43m(\u001b[49m\u001b[43mw\u001b[49m\u001b[43m,\u001b[49m\u001b[43m \u001b[49m\u001b[43mb\u001b[49m\u001b[43m,\u001b[49m\u001b[43m \u001b[49m\u001b[43mX\u001b[49m\u001b[43m,\u001b[49m\u001b[43m \u001b[49m\u001b[43mY\u001b[49m\u001b[43m,\u001b[49m\u001b[43m \u001b[49m\u001b[43mnum_iterations\u001b[49m\u001b[38;5;241;43m=\u001b[39;49m\u001b[38;5;241;43m100\u001b[39;49m\u001b[43m,\u001b[49m\u001b[43m \u001b[49m\u001b[43mlearning_rate\u001b[49m\u001b[38;5;241;43m=\u001b[39;49m\u001b[38;5;241;43m0.009\u001b[39;49m\u001b[43m,\u001b[49m\u001b[43m \u001b[49m\u001b[43mprint_cost\u001b[49m\u001b[38;5;241;43m=\u001b[39;49m\u001b[38;5;28;43;01mFalse\u001b[39;49;00m\u001b[43m)\u001b[49m\n\u001b[0;32m      3\u001b[0m \u001b[38;5;28mprint\u001b[39m (\u001b[38;5;124m\"\u001b[39m\u001b[38;5;124mw = \u001b[39m\u001b[38;5;124m\"\u001b[39m \u001b[38;5;241m+\u001b[39m \u001b[38;5;28mstr\u001b[39m(params[\u001b[38;5;124m\"\u001b[39m\u001b[38;5;124mw\u001b[39m\u001b[38;5;124m\"\u001b[39m]))\n\u001b[0;32m      4\u001b[0m \u001b[38;5;28mprint\u001b[39m (\u001b[38;5;124m\"\u001b[39m\u001b[38;5;124mb = \u001b[39m\u001b[38;5;124m\"\u001b[39m \u001b[38;5;241m+\u001b[39m \u001b[38;5;28mstr\u001b[39m(params[\u001b[38;5;124m\"\u001b[39m\u001b[38;5;124mb\u001b[39m\u001b[38;5;124m\"\u001b[39m]))\n",
      "Cell \u001b[1;32mIn[28], line 30\u001b[0m, in \u001b[0;36majuste_parametros\u001b[1;34m(w, b, X, Y, num_iterations, learning_rate, print_cost)\u001b[0m\n\u001b[0;32m     26\u001b[0m \u001b[38;5;66;03m#-------------------------------------------#\u001b[39;00m\n\u001b[0;32m     28\u001b[0m \u001b[38;5;28;01mfor\u001b[39;00m i \u001b[38;5;129;01min\u001b[39;00m \u001b[38;5;28mrange\u001b[39m(num_iterations):\n\u001b[0;32m     29\u001b[0m     \u001b[38;5;66;03m#----------------------CODIGO--------------------------#\u001b[39;00m\n\u001b[1;32m---> 30\u001b[0m     grads, cost \u001b[38;5;241m=\u001b[39m \u001b[43mpropagacion\u001b[49m\u001b[43m(\u001b[49m\u001b[43mw\u001b[49m\u001b[43m,\u001b[49m\u001b[43m \u001b[49m\u001b[43mb\u001b[49m\u001b[43m,\u001b[49m\u001b[43m \u001b[49m\u001b[43mX\u001b[49m\u001b[43m,\u001b[49m\u001b[43m \u001b[49m\u001b[43mY\u001b[49m\u001b[43m)\u001b[49m\n\u001b[0;32m     32\u001b[0m     dw \u001b[38;5;241m=\u001b[39m grads[\u001b[38;5;124m\"\u001b[39m\u001b[38;5;124mdw\u001b[39m\u001b[38;5;124m\"\u001b[39m]\n\u001b[0;32m     33\u001b[0m     db \u001b[38;5;241m=\u001b[39m grads[\u001b[38;5;124m\"\u001b[39m\u001b[38;5;124mdb\u001b[39m\u001b[38;5;124m\"\u001b[39m]\n",
      "Cell \u001b[1;32mIn[26], line 25\u001b[0m, in \u001b[0;36mpropagacion\u001b[1;34m(w, b, X, Y)\u001b[0m\n\u001b[0;32m     21\u001b[0m m \u001b[38;5;241m=\u001b[39m X\u001b[38;5;241m.\u001b[39mshape[\u001b[38;5;241m1\u001b[39m]\n\u001b[0;32m     22\u001b[0m \u001b[38;5;66;03m#-----------------------------------------#\u001b[39;00m\n\u001b[0;32m     23\u001b[0m \n\u001b[0;32m     24\u001b[0m \u001b[38;5;66;03m#FORWARD\u001b[39;00m\n\u001b[1;32m---> 25\u001b[0m A \u001b[38;5;241m=\u001b[39m sigmoide(np\u001b[38;5;241m.\u001b[39mdot(w\u001b[38;5;241m.\u001b[39mT,\u001b[43mx\u001b[49m) \u001b[38;5;241m+\u001b[39m b)\n\u001b[0;32m     27\u001b[0m \u001b[38;5;66;03m#COST\u001b[39;00m\n\u001b[0;32m     28\u001b[0m cost \u001b[38;5;241m=\u001b[39m \u001b[38;5;241m-\u001b[39m(\u001b[38;5;241m1\u001b[39m\u001b[38;5;241m/\u001b[39mm)\u001b[38;5;241m*\u001b[39mnp\u001b[38;5;241m.\u001b[39msum(\u001b[38;5;241m-\u001b[39mY \u001b[38;5;241m*\u001b[39m np\u001b[38;5;241m.\u001b[39mexp(A) \u001b[38;5;241m+\u001b[39m (\u001b[38;5;241m1\u001b[39m \u001b[38;5;241m-\u001b[39m Y) \u001b[38;5;241m*\u001b[39m np\u001b[38;5;241m.\u001b[39mlog(\u001b[38;5;241m1\u001b[39m\u001b[38;5;241m-\u001b[39mA))\n",
      "\u001b[1;31mNameError\u001b[0m: name 'x' is not defined"
     ]
    }
   ],
   "source": [
    "params, grads, costs = ajuste_parametros(w, b, X, Y, num_iterations=100, learning_rate=0.009, print_cost=False)\n",
    "\n",
    "print (\"w = \" + str(params[\"w\"]))\n",
    "print (\"b = \" + str(params[\"b\"]))\n",
    "print (\"dw = \" + str(grads[\"dw\"]))\n",
    "print (\"db = \" + str(grads[\"db\"]))\n",
    "print(\"Costs = \" + str(costs))\n",
    "\n",
    "ajuste_parametros_test(ajuste_parametros)"
   ]
  },
  {
   "cell_type": "markdown",
   "metadata": {},
   "source": [
    "## ***Predicción***\n"
   ]
  },
  {
   "cell_type": "markdown",
   "metadata": {},
   "source": [
    "### **Ejercicio 8**\n",
    "\n",
    "\n",
    "La funcion anterior nos permite obtener los parametros aprendidos para  $W$ y $b$. \n",
    "\n",
    "Ahora utilizaremos estos parametros para realizar las predicciones para las etiquetas de la base de datos $X$.\n",
    "\n",
    "Implemente la funcion `predict()` la cual tiene 2 pasos:\n",
    "\n",
    "\n",
    "1. Calcular  $\\hat{Y} = A = \\sigma(w^T X + b)$\n",
    "\n",
    "2. Convertir las entradas a 0 (si activation <= 0.5) o  1 (si activation > 0.5) y guardar las predicciones en el vector  `Y_prediction`"
   ]
  },
  {
   "cell_type": "code",
   "execution_count": 31,
   "metadata": {},
   "outputs": [],
   "source": [
    "\n",
    "def predict(w, b, X):\n",
    "    '''\n",
    "    Predecir si la etiqueta es 0 o 1 dependiendo de los parameteros reajustados de la regresion logistica(w, b)\n",
    "    \n",
    "    Inputs:\n",
    "    w -- pesos, arreglo de numpy de tamaño  (nx * nx * 3, 1)\n",
    "    b -- bias, a scalar\n",
    "    X -- los datos de tamaño (nx * nx * 3,m)\n",
    "    \n",
    "    Returns:\n",
    "    Y_prediction -- un arreglo de numpy el cual contiene todas las predicciones (0/1) para los ejemplos en X\n",
    "    '''\n",
    "#-----------------NO TOCAR---------------#\n",
    "    m = X.shape[1]\n",
    "    Y_prediction = np.zeros((1, m))\n",
    "    w = w.reshape(X.shape[0], 1)\n",
    "\n",
    "#----------------------CODIGO-----------------------#\n",
    "\n",
    "    A = sigmoide(w.T.dot(X) + b)\n",
    "    for i in range(A.shape[0]):\n",
    "        if A[1,i] > 0.5:\n",
    "            Y_predictions = 1\n",
    "        else:\n",
    "            Y_predictions = 0\n",
    "\n",
    "\n",
    "\n",
    "\n",
    "\n",
    "\n",
    "\n",
    "\n",
    "\n",
    "\n",
    "\n",
    "\n",
    "#----------------------NO TOCAR---------------------#\n",
    "    return Y_prediction\n"
   ]
  },
  {
   "cell_type": "code",
   "execution_count": null,
   "metadata": {},
   "outputs": [],
   "source": [
    "w = np.array([[0.1124579], [0.23106775]])\n",
    "b = -0.3\n",
    "X = np.array([[1., -1.1, -3.2],[1.2, 2., 0.1]])\n",
    "print (\"predictions = \" + str(predict(w, b, X)))\n",
    "\n",
    "predict_test(predict)"
   ]
  },
  {
   "cell_type": "markdown",
   "metadata": {},
   "source": [
    "## ***Creación del Modelo***\n",
    "### Ejercicio 9\n",
    "Finalmente, nos enfocaremos en consolidar nuestro modelo. Este proceso implica integrar todas las funciones desarrolladas anteriormente en una secuencia lógica y ordenada, con el objetivo de conformar el algoritmo de detección completo.\n",
    "\n",
    "Utilice las siguientes notaciones en la implementación: :\n",
    "\n",
    "    - Y_prediction_test --> predicciones en el test set\n",
    "\n",
    "    - Y_prediction_train --> predicciones en el train set\n",
    "    \n",
    "    - parameters, grads, costs  --> salidas de la funcion ajuste_parametros"
   ]
  },
  {
   "cell_type": "code",
   "execution_count": null,
   "metadata": {},
   "outputs": [],
   "source": [
    "\n",
    "def model(X_train, Y_train, X_test, Y_test, num_iterations=2000, learning_rate=0.5, print_cost=False):\n",
    "    \"\"\"\n",
    "    Construya el modelo de regression logistica utilizando las funciones anteriormente planteadas\n",
    "    \n",
    "    Inputs:\n",
    "    X_train -- datos de entrenamiento en arreglo numpy (nx * nx * 3, m_train)\n",
    "    Y_train -- etiquetas de los datos de entrenamiento en arreglo numpy (1, m_train)\n",
    "    X_test -- datos de testo en arreglo numpy(num_px * num_px * 3, m_test)\n",
    "    Y_test -- etiquetas de los datos de teteo en arreglo numpy (1, m_test)\n",
    "    num_iterations -- hyperparametro: representa el numero de iteraciones el cual los parametros se ajustan \n",
    "    learning_rate -- hyperparametro:  representa el paso con el cual los parametros se ajustan\n",
    "    print_cost -- True imprimir el costo cada 100 iteraciones\n",
    "    \n",
    "    Returns:\n",
    "    d -- diccionario que contiene toda la funcion del modelo.\n",
    "    \"\"\"\n",
    "    # Inicializamos los parametros\n",
    "\n",
    "    # Ajustamos los parametros\n",
    "\n",
    "    \n",
    "    # Recibimos los parametros\n",
    "\n",
    "    # Realizamos las predicciones para entrenamiento y testeo\n",
    "\n",
    "    # ----------------NO TOCAR ---------------------------#\n",
    "    if print_cost:\n",
    "        print(\"train accuracy: {} %\".format(100 - np.mean(np.abs(Y_prediction_train - Y_train)) * 100))\n",
    "        print(\"test accuracy: {} %\".format(100 - np.mean(np.abs(Y_prediction_test - Y_test)) * 100))\n",
    "\n",
    "    \n",
    "    d = {\"costs\": costs,\n",
    "         \"Y_prediction_test\": Y_prediction_test, \n",
    "         \"Y_prediction_train\" : Y_prediction_train, \n",
    "         \"w\" : w, \n",
    "         \"b\" : b,\n",
    "         \"learning_rate\" : learning_rate,\n",
    "         \"num_iterations\": num_iterations}\n",
    "    \n",
    "    return d"
   ]
  },
  {
   "cell_type": "code",
   "execution_count": null,
   "metadata": {},
   "outputs": [],
   "source": [
    "from public_tests import *\n",
    "\n",
    "model_test(model)"
   ]
  },
  {
   "cell_type": "code",
   "execution_count": null,
   "metadata": {},
   "outputs": [],
   "source": [
    "logistic_regression_model = model(train_set_x, train_set_y, test_set_x, test_set_y, num_iterations=3000, learning_rate=0.001, print_cost=True)"
   ]
  },
  {
   "cell_type": "markdown",
   "metadata": {},
   "source": [
    "## ***Resultados***"
   ]
  },
  {
   "cell_type": "code",
   "execution_count": null,
   "metadata": {},
   "outputs": [],
   "source": [
    "\n",
    "costs = np.squeeze(logistic_regression_model['costs'])\n",
    "plt.plot(costs)\n",
    "plt.ylabel('costo')\n",
    "plt.xlabel('iteraciones (10**2)')\n",
    "plt.title(\"Learning rate =\" + str(logistic_regression_model[\"learning_rate\"]))\n",
    "plt.show()"
   ]
  },
  {
   "cell_type": "code",
   "execution_count": null,
   "metadata": {},
   "outputs": [],
   "source": [
    "index = 9\n",
    "\n",
    "\n",
    "plt.imshow(test_set_x[:, index].reshape((nx, nx, 3)))\n",
    "print (\"y = \" + str(test_set_y[0,index]) + \", you predicted that it is a \\\"\" + classes[int(logistic_regression_model['Y_prediction_test'][0,index])].decode(\"utf-8\") +  \"\\\" picture.\")"
   ]
  },
  {
   "cell_type": "markdown",
   "metadata": {},
   "source": [
    "Developed by :\n",
    "\n",
    "    Joseph Felipe Grijalva Lozano - jgrijalva@unal.edu.co"
   ]
  }
 ],
 "metadata": {
  "kernelspec": {
   "display_name": "Python 3",
   "language": "python",
   "name": "python3"
  },
  "language_info": {
   "codemirror_mode": {
    "name": "ipython",
    "version": 3
   },
   "file_extension": ".py",
   "mimetype": "text/x-python",
   "name": "python",
   "nbconvert_exporter": "python",
   "pygments_lexer": "ipython3",
   "version": "3.11.4"
  }
 },
 "nbformat": 4,
 "nbformat_minor": 2
}
