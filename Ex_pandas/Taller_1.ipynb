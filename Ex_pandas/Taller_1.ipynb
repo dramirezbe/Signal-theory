{
  "cells": [
    {
      "cell_type": "markdown",
      "metadata": {
        "id": "4a6WviWNQ6tW"
      },
      "source": [
        "#*Taller 1 Teoria*#\n",
        "In this Notebook, the goal is to compile the topics covered in **Classes-Inheritance-Sets** through the following exercise:\n",
        "\n",
        "\n",
        "\n",
        "\n",
        "1.  *First part: Create a Python class that takes a xlsx_file and allows me\n",
        "to -->*\n",
        "\n",
        "\n",
        "*   Read data\n",
        "*   return mean of a specific column\n",
        "*   return mode of a specific column\n",
        "*   return median of a specific column\n",
        "\n",
        "\n",
        "\n",
        "\n",
        "\n",
        "\n",
        "\n",
        "\n",
        "---\n",
        "\n",
        "\n",
        "\n",
        "\n",
        "2.   *Second part: Create a 'child' class of type Single inheritence from  the previous class that should take 2 xlsx_files and provides  --> the following set operations on the data in both dataframes:*\n",
        "\n",
        "\n",
        "\n",
        "\n",
        "**A ∪ B**\n",
        "---\n",
        "**A ∩ B**\n",
        "---\n",
        "**A - B**\n",
        "---\n",
        "**B - A**\n",
        "---\n",
        "**A △ B**\n",
        "---\n",
        "\n",
        "\n",
        "\n",
        "###*hints*###\n",
        "\n",
        "\n",
        "*   YOU CAN USE PANDAS AS LONG IS IN YOUR OWN CLASS\n",
        "*   [read_excel()](https://pandas.pydata.org/pandas-docs/stable/reference/api/pandas.read_excel.html)\n",
        "* [merge()](https://pandas.pydata.org/pandas-docs/stable/user_guide/merging.html)\n",
        "\n",
        "* [Isin()](https://www.delftstack.com/api/python-pandas/pandas-dataframe-dataframe.isin-function/)\n",
        "\n",
        "\n",
        "* [symmetric difference](https://pandas.pydata.org/pandas-docs/stable/user_guide/merging.html)\n",
        "\n",
        "\n",
        "* [concat](https://pandas.pydata.org/pandas-docs/stable/reference/api/pandas.concat.html)"
      ]
    },
    {
      "cell_type": "code",
      "execution_count": 13,
      "metadata": {},
      "outputs": [
        {
          "name": "stdout",
          "output_type": "stream",
          "text": [
            "Cálculos columna Edad:\n",
            "Promedio: 19.2\n",
            "Moda: 12\n",
            "Mediana: 15.0\n"
          ]
        }
      ],
      "source": [
        "import pandas as pd\n",
        "\n",
        "path1 = \"Book1.xlsx\"\n",
        "path2 = \"Book2.xlsx\"\n",
        "\n",
        "data1 = pd.read_excel(path1)\n",
        "data2 = pd.read_excel(path2)\n",
        "\n",
        "db = int(input(\"Cuál DataBase desea ver 1 o 2: \"))\n",
        "\n",
        "if db == 1:\n",
        "    db = data1\n",
        "else:\n",
        "    db = data2\n",
        "\n",
        "clmn = input(\"Cuál columna desea operar: \")\n",
        "\n",
        "col_mean = db[clmn].mean()\n",
        "col_mode = db[clmn].mode().iloc[0]  #Iloc selecciona la primera moda que aparece, para que no persista el error de imprimir toda la columna\n",
        "col_median = db[clmn].median()\n",
        "\n",
        "print(f\"Cálculos columna {clmn}:\")\n",
        "print(f\"Promedio: {col_mean}\")\n",
        "print(f\"Moda: {col_mode}\")\n",
        "print(f\"Mediana: {col_median}\")\n",
        "\n"
      ]
    },
    {
      "cell_type": "code",
      "execution_count": 5,
      "metadata": {},
      "outputs": [
        {
          "name": "stdout",
          "output_type": "stream",
          "text": [
            "book1:  [1.7, 1.6, 1.9, 1.8, 1.55]\n",
            "book2:  [1.78, 1.74, 1.98, 1.8, 1.77, 1.87, 1.9]\n",
            "Unión: [1.7, 1.9, 1.55, 1.8, 1.6, 1.78, 1.74, 1.98, 1.77, 1.87]\n",
            "Intersección:  [1.9, 1.8]\n",
            "A - B:  [1.7, 1.6, 1.55]\n",
            "B - A:  [1.87, 1.77, 1.74, 1.98, 1.78]\n",
            "Diferencia Simétrica:  {1.77, 1.78, 1.6, 1.98, 1.74, 1.87, 1.55, 1.7}\n"
          ]
        }
      ],
      "source": [
        "import pandas as pd\n",
        "import numpy as np\n",
        "\n",
        "db1 = pd.read_excel(\"Book1.xlsx\")\n",
        "db2 = pd.read_excel(\"Book2.xlsx\")\n",
        "\n",
        "col = input(\"Elige la columna a la extraer información: \")\n",
        "\n",
        "col1 = list(set(db1[col].tolist()))\n",
        "col2 = list(set(db2[col].tolist()))\n",
        "\n",
        "\"\"\"Unión\"\"\"\n",
        "print(f\"book1: \", col1)\n",
        "print(f\"book2: \", col2)\n",
        "union = col1 + col2\n",
        "union = list(set(union))\n",
        "print(f\"Unión: {union}\")\n",
        "\n",
        "\"\"\"Intersección\"\"\"\n",
        "\n",
        "inter = []\n",
        "for i in col1:\n",
        "    for j in col2:\n",
        "\n",
        "        if j == i:\n",
        "            inter.append(j)\n",
        "\n",
        "print(f\"Intersección: \", inter)\n",
        "\n",
        "\"\"\"Resta\"\"\"\n",
        "set1 = set(col1)\n",
        "set2 = set(col2)\n",
        "\n",
        "resta1 = list(set1 - set2)\n",
        "resta2 = list(set2 - set1)\n",
        "\n",
        "print(\"A - B: \", resta1)\n",
        "print(\"B - A: \",resta2)\n",
        "\n",
        "\"\"\"Operación Simétrica\"\"\"\n",
        "\n",
        "simetric = set1 ^ set2\n",
        "\n",
        "print(\"Diferencia Simétrica: \", simetric)"
      ]
    }
  ],
  "metadata": {
    "colab": {
      "provenance": []
    },
    "kernelspec": {
      "display_name": "Python 3",
      "name": "python3"
    },
    "language_info": {
      "codemirror_mode": {
        "name": "ipython",
        "version": 3
      },
      "file_extension": ".py",
      "mimetype": "text/x-python",
      "name": "python",
      "nbconvert_exporter": "python",
      "pygments_lexer": "ipython3",
      "version": "3.11.4"
    }
  },
  "nbformat": 4,
  "nbformat_minor": 0
}
