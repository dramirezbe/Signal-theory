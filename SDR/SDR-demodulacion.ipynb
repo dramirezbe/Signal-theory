{
 "cells": [
  {
   "cell_type": "markdown",
   "metadata": {},
   "source": [
    "# Detectar Output audio del pc, para así detectar el audio de una emisora web. Hallar el espectro en tiempo real.\n",
    "\n",
    "## Ideas:\n",
    "- Usar Vb-cable para redireccionar el output audio de la computadora como input(mic) "
   ]
  },
  {
   "cell_type": "code",
   "execution_count": 9,
   "metadata": {},
   "outputs": [],
   "source": [
    "import sounddevice as sd\n",
    "import numpy as np\n",
    "import matplotlib.pyplot as plt\n",
    "from matplotlib.animation import FuncAnimation"
   ]
  },
  {
   "cell_type": "code",
   "execution_count": 10,
   "metadata": {},
   "outputs": [
    {
     "name": "stdout",
     "output_type": "stream",
     "text": [
      "[2] Asignador de sonido Microsoft - Output\n",
      "[3] Altavoces (Realtek(R) Audio)\n",
      "[6] Controlador primario de sonido\n",
      "[7] Altavoces (Realtek(R) Audio)\n",
      "[8] Altavoces (Realtek(R) Audio)\n",
      "[10] Headphones 1 (Realtek HD Audio 2nd output with HAP)\n",
      "[11] Headphones 2 (Realtek HD Audio 2nd output with HAP)\n",
      "[13] Speakers 1 (Realtek HD Audio output with HAP)\n",
      "[14] Speakers 2 (Realtek HD Audio output with HAP)\n"
     ]
    }
   ],
   "source": [
    "for index, device in enumerate(sd.query_devices()):\n",
    "    if device['max_output_channels'] > 0:\n",
    "        print(f'[{index}] {device[\"name\"]}')"
   ]
  }
 ],
 "metadata": {
  "kernelspec": {
   "display_name": "Python 3",
   "language": "python",
   "name": "python3"
  },
  "language_info": {
   "codemirror_mode": {
    "name": "ipython",
    "version": 3
   },
   "file_extension": ".py",
   "mimetype": "text/x-python",
   "name": "python",
   "nbconvert_exporter": "python",
   "pygments_lexer": "ipython3",
   "version": "3.12.5"
  }
 },
 "nbformat": 4,
 "nbformat_minor": 2
}
