{
 "cells": [
  {
   "cell_type": "markdown",
   "metadata": {},
   "source": [
    "# Detectar Output audio del pc, para así detectar el audio de una emisora web. Hallar el espectro en tiempo real.\n",
    "\n",
    "## Ideas:\n",
    "- Usar Virtual audio cable para redireccionar el output audio de la computadora como input(mic) "
   ]
  },
  {
   "cell_type": "code",
   "execution_count": 4,
   "metadata": {},
   "outputs": [],
   "source": [
    "import sounddevice as sd\n",
    "import numpy as np\n",
    "import matplotlib.pyplot as plt\n",
    "from matplotlib.animation import FuncAnimation\n",
    "from scipy.io.wavfile import write\n",
    "from scipy.signal import welch\n",
    "from matplotlib.mlab import psd\n",
    "import os"
   ]
  },
  {
   "cell_type": "code",
   "execution_count": 5,
   "metadata": {},
   "outputs": [
    {
     "name": "stdout",
     "output_type": "stream",
     "text": [
      "Índice: 0, Nombre: Asignador de sonido Microsoft - Input, Canales: 2\n",
      "Índice: 1, Nombre: Mezcla estéreo (Realtek(R) Audi, Canales: 2\n",
      "Índice: 2, Nombre: Controlador primario de captura de sonido, Canales: 2\n",
      "Índice: 3, Nombre: Mezcla estéreo (Realtek(R) Audio), Canales: 2\n",
      "Índice: 4, Nombre: Mezcla estéreo (Realtek(R) Audio), Canales: 2\n",
      "Índice: 5, Nombre: Altavoz de PC (Realtek HD Audio 2nd output with HAP), Canales: 2\n",
      "Índice: 6, Nombre: Altavoz de PC (Realtek HD Audio output with HAP), Canales: 2\n",
      "Índice: 7, Nombre: Mic in at front panel (black) (Mic in at front panel (black)), Canales: 2\n",
      "Índice: 8, Nombre: Mezcla estéreo (Realtek HD Audio Stereo input), Canales: 2\n",
      "Índice: 9, Nombre: Varios micrófonos (Realtek HD Audio Mic input), Canales: 2\n",
      "Índice: 10, Nombre: CABLE Output (VB-Audio Point), Canales: 8\n"
     ]
    }
   ],
   "source": [
    "dispositivos_entrada = [d for d in sd.query_devices() if d['max_input_channels'] > 0]\n",
    "\n",
    "for i, dispositivo in enumerate(dispositivos_entrada):\n",
    "    print(f\"Índice: {i}, Nombre: {dispositivo['name']}, Canales: {dispositivo['max_input_channels']}\")"
   ]
  },
  {
   "cell_type": "code",
   "execution_count": null,
   "metadata": {},
   "outputs": [],
   "source": [
    "def grabar_audio(indice_dispositivo, duracion, frecuencia_muestreo):\n",
    "    sd.default.device = indice_dispositivo\n",
    "    audio = sd.rec(int(duracion * frecuencia_muestreo), samplerate=frecuencia_muestreo, channels=2, dtype='int16')\n",
    "    sd.wait()  # Espera a que termine la grabación\n",
    "\n",
    "    audio_mono = np.mean(audio, axis=1).astype(np.int16)  # Convertir a mono\n",
    "    return audio_mono\n",
    "\n",
    "def welch_vector(X, fs, window, nperseg, nfft):\n",
    "    return welch(X, fs, window=window, nperseg=nperseg, noverlap=(nperseg//2), nfft=nfft)\n",
    "\n",
    "# Elegir el índice del dispositivo de entrada (cambiar este valor)\n",
    "indice_dispositivo = 4\n",
    "\n",
    "# Parámetros de grabación\n",
    "frecuencia_muestreo = 44100  # Frecuencia de muestreo en Hz\n",
    "duracion = 2\n",
    "ruta_archivo = os.path.join('audio', 'sample.wav')\n",
    "\n",
    "# Bucle infinito para grabar, plotear y borrar el archivo\n",
    "while True:\n",
    "    # Grabar audio\n",
    "    audio = grabar_audio(indice_dispositivo, duracion, frecuencia_muestreo)\n",
    "\n",
    "    # Guardar el archivo WAV\n",
    "    write(ruta_archivo, frecuencia_muestreo, audio)\n",
    "\n",
    "    # Calcular el PSD usando Welch\n",
    "    f, psd = welch_vector(audio, frecuencia_muestreo, 'blackmanharris', (len(audio)-1), (len(audio)*2)-1)\n",
    "\n",
    "    # Limpiar el gráfico previo antes de graficar el nuevo\n",
    "    plt.clf()  # Limpia el gráfico actual\n",
    "\n",
    "    # Graficar el PSD\n",
    "    plt.semilogy(f, psd)\n",
    "    plt.title('PSD (Densidad Espectral de Potencia)')\n",
    "    plt.xlabel('Frecuencia [Hz]')\n",
    "    plt.ylabel('PSD [V^2/Hz]')\n",
    "    plt.grid(True)\n",
    "    plt.show(block=False)  # Mostrar el gráfico sin bloquear el flujo del programa\n",
    "\n",
    "    # Borrar el archivo WAV después de procesarlo\n",
    "    os.remove(ruta_archivo)\n",
    "\n"
   ]
  }
 ],
 "metadata": {
  "kernelspec": {
   "display_name": "Python 3",
   "language": "python",
   "name": "python3"
  },
  "language_info": {
   "codemirror_mode": {
    "name": "ipython",
    "version": 3
   },
   "file_extension": ".py",
   "mimetype": "text/x-python",
   "name": "python",
   "nbconvert_exporter": "python",
   "pygments_lexer": "ipython3",
   "version": "3.12.5"
  }
 },
 "nbformat": 4,
 "nbformat_minor": 2
}
