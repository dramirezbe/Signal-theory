{
 "cells": [
  {
   "cell_type": "code",
   "execution_count": 1,
   "metadata": {},
   "outputs": [],
   "source": [
    "import os\n",
    "import pandas as pd\n",
    "import numpy as np\n",
    "import matplotlib.pyplot as plt\n",
    "import librosa\n",
    "import scipy.signal as sig"
   ]
  },
  {
   "cell_type": "code",
   "execution_count": 3,
   "metadata": {},
   "outputs": [],
   "source": [
    "def audio_matrix(path):\n",
    "    fs_v = []\n",
    "    audio_m = []\n",
    "\n",
    "    for file in os.listdir(path):\n",
    "        file_path = os.path.join(path, file)\n",
    "\n",
    "        y, sr = librosa.load(file_path, sr=None)\n",
    "\n",
    "        fs_v.append(sr)\n",
    "        audio_m.append(y)\n",
    "\n",
    "    # Calcular la frecuencia de muestreo promedio\n",
    "    fs = np.mean(fs_v)\n",
    "\n",
    "    # Asegurarse de que todos los arreglos de audio tengan la misma longitud\n",
    "    max_length = max(len(y) for y in audio_m)\n",
    "    audio_m_padded = np.array([np.pad(y, (0, max_length - len(y)), 'constant') for y in audio_m])\n",
    "\n",
    "    return audio_m_padded, fs\n",
    "\n",
    "def welch_vector(X, fs, window, nperseg, nfft):\n",
    "    return sig.welch(X, fs, window=window, nperseg=nperseg, noverlap=(nperseg//2), nfft=nfft)\n",
    "\n",
    "def psd_matrix(audio_m,  fs, window, M, N):  \n",
    "    psd_matrix = np.zeros((M,N))          \n",
    "    for i in range(M):\n",
    "        audio_v = audio_m[i]\n",
    "        f, psd = welch_vector(audio_v, fs,  window, (N-1), (N*2)-1)\n",
    "        psd_matrix[i] = psd\n",
    "    return f, psd_matrix\n",
    "\n",
    "def audio_classif(classif,  audio_m):\n",
    "    one_count = np.sum(classif)\n",
    "    zero_count = len(classif) - one_count\n",
    "\n",
    "    audio_one_m = np.zeros((one_count, N))\n",
    "    audio_zero_m = np.zeros((zero_count, N))\n",
    "\n",
    "    audio_one_m = audio_m[classif == 1]\n",
    "    audio_zero_m = audio_m[classif == 0]\n",
    "\n",
    "    return  audio_one_m, audio_zero_m\n"
   ]
  },
  {
   "cell_type": "code",
   "execution_count": 16,
   "metadata": {},
   "outputs": [
    {
     "name": "stdout",
     "output_type": "stream",
     "text": [
      "(1205, 83886)\n"
     ]
    }
   ],
   "source": [
    "path = r'C:\\Audio_fm'\n",
    "audio_m, fs = audio_matrix(path)\n",
    "\n",
    "M = audio_m.shape[0]\n",
    "N = audio_m.shape[1]\n",
    "\n",
    "t = np.linspace(0, N/fs, num=N)\n",
    "\n",
    "f, psd_m = psd_matrix(audio_m, fs,  'blackmanharris', M, N)\n",
    "\n",
    "df = pd.read_excel('audio_fm_classification.xlsx')\n",
    "df.head()\n",
    "\n",
    "print(audio_m.shape)\n",
    "\n",
    "classif = df['Classification'].to_numpy()\n"
   ]
  }
 ],
 "metadata": {
  "kernelspec": {
   "display_name": "Python 3",
   "language": "python",
   "name": "python3"
  },
  "language_info": {
   "codemirror_mode": {
    "name": "ipython",
    "version": 3
   },
   "file_extension": ".py",
   "mimetype": "text/x-python",
   "name": "python",
   "nbconvert_exporter": "python",
   "pygments_lexer": "ipython3",
   "version": "3.12.5"
  }
 },
 "nbformat": 4,
 "nbformat_minor": 2
}
