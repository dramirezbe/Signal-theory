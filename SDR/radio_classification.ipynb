{
 "cells": [
  {
   "cell_type": "code",
   "execution_count": 1,
   "metadata": {},
   "outputs": [
    {
     "name": "stderr",
     "output_type": "stream",
     "text": [
      "<>:1: SyntaxWarning: invalid escape sequence '\\A'\n",
      "<>:1: SyntaxWarning: invalid escape sequence '\\A'\n",
      "C:\\Users\\david\\AppData\\Local\\Temp\\ipykernel_6216\\1645478713.py:1: SyntaxWarning: invalid escape sequence '\\A'\n",
      "  \"\"\"import os\n"
     ]
    },
    {
     "data": {
      "text/plain": [
       "\"import os\\nimport pandas as pd\\n\\ndirectory = r'D:\\\\Audios_fm'\\n\\nwav_files = [f for f in os.listdir(directory) if f.endswith('.wav')]\\ndf = pd.DataFrame(wav_files, columns=['audio_name'])\\n\\noutput_file ='signal detection.xlsx'\\n\\ndf.to_excel(output_file, index=False)\\n\\nprint(f'list of audio files saved to {output_file}')\""
      ]
     },
     "execution_count": 1,
     "metadata": {},
     "output_type": "execute_result"
    }
   ],
   "source": [
    "\"\"\"import os\n",
    "import pandas as pd\n",
    "\n",
    "directory = r'D:\\Audios_fm'\n",
    "\n",
    "wav_files = [f for f in os.listdir(directory) if f.endswith('.wav')]\n",
    "df = pd.DataFrame(wav_files, columns=['audio_name'])\n",
    "\n",
    "output_file ='signal detection.xlsx'\n",
    "\n",
    "df.to_excel(output_file, index=False)\n",
    "\n",
    "print(f'list of audio files saved to {output_file}')\"\"\""
   ]
  },
  {
   "cell_type": "code",
   "execution_count": null,
   "metadata": {},
   "outputs": [],
   "source": []
  }
 ],
 "metadata": {
  "kernelspec": {
   "display_name": "Python 3",
   "language": "python",
   "name": "python3"
  },
  "language_info": {
   "codemirror_mode": {
    "name": "ipython",
    "version": 3
   },
   "file_extension": ".py",
   "mimetype": "text/x-python",
   "name": "python",
   "nbconvert_exporter": "python",
   "pygments_lexer": "ipython3",
   "version": "3.12.3"
  }
 },
 "nbformat": 4,
 "nbformat_minor": 2
}
